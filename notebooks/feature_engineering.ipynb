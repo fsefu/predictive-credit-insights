{
 "cells": [
  {
   "cell_type": "code",
   "execution_count": 1,
   "metadata": {},
   "outputs": [],
   "source": [
    "# Import pandas\n",
    "import pandas as pd\n",
    "import os\n",
    "import sys\n",
    "sys.path.append(os.path.abspath(os.path.join(os.getcwd(), '../src')))\n",
    "sys.path.append(os.path.abspath(os.path.join(os.getcwd(), '../scripts')))\n"
   ]
  },
  {
   "cell_type": "code",
   "execution_count": 2,
   "metadata": {},
   "outputs": [],
   "source": [
    "# Load your Excel file\n",
    "transactions_df = pd.read_excel('../data/data.xlsx',  sheet_name='data') "
   ]
  },
  {
   "cell_type": "code",
   "execution_count": null,
   "metadata": {},
   "outputs": [],
   "source": [
    "from feature_engineering.feature_engineering import AggregateFeatures\n",
    "\n",
    "agg_features = AggregateFeatures(data=transactions_df, customer_id_col='CustomerId', transaction_amount_col='Amount')\n",
    "agg_data = agg_features.compute_aggregate_features()\n",
    "agg_data.head()"
   ]
  },
  {
   "cell_type": "code",
   "execution_count": null,
   "metadata": {},
   "outputs": [],
   "source": [
    "from feature_engineering.feature_engineering import TimeFeatureExtractor\n",
    "\n",
    "\n",
    "time_features = TimeFeatureExtractor(data=transactions_df, datetime_col='TransactionStartTime')\n",
    "time_data = time_features.extract_time_features()\n",
    "\n",
    "time_data.head()\n"
   ]
  },
  {
   "cell_type": "code",
   "execution_count": null,
   "metadata": {},
   "outputs": [],
   "source": [
    "from feature_engineering.feature_engineering import CategoricalEncoder\n",
    "\n",
    "\n",
    "encoder = CategoricalEncoder(data=transactions_df)\n",
    "# Perform one-hot encoding for relevant columns\n",
    "one_hot_encoded_data = encoder.one_hot_encode(['CurrencyCode', 'CountryCode', 'ProviderId', 'ProductId', 'ProductCategory', 'ChannelId', 'PricingStrategy'])\n",
    "\n",
    "# Perform label encoding for binary FraudResult\n",
    "label_encoded_data = encoder.label_encode(['FraudResult'])\n",
    "print(\"one hot encoded data\")\n",
    "print(one_hot_encoded_data.head())\n",
    "\n",
    "print(\"label encoded data\")\n",
    "\n",
    "label_encoded_data.head()"
   ]
  },
  {
   "cell_type": "code",
   "execution_count": null,
   "metadata": {},
   "outputs": [],
   "source": [
    "# Numerical and categorical columns\n",
    "from feature_engineering.feature_engineering import MissingValueHandler\n",
    "\n",
    "\n",
    "numerical_columns = ['Amount', 'Value']\n",
    "categorical_columns = ['CurrencyCode', 'CountryCode', 'ProviderId', 'ProductId', 'ProductCategory', 'ChannelId', 'PricingStrategy', 'FraudResult']\n",
    "\n",
    "# Instantiate handler and impute missing values\n",
    "handler = MissingValueHandler(data=transactions_df)\n",
    "\n",
    "# Impute missing values (using mean for numerical and most frequent for categorical)\n",
    "data_imputed = handler.impute_missing_values(numerical_columns=numerical_columns, categorical_columns=categorical_columns)\n",
    "\n",
    "# Optionally remove columns with more than 5% missing values\n",
    "data_cleaned = handler.remove_missing_values(threshold=0.05)\n",
    "\n",
    "# Save the cleaned data to CSV\n",
    "handler.save_cleaned_data(\"../data/cleaned_data.csv\")\n"
   ]
  },
  {
   "cell_type": "code",
   "execution_count": null,
   "metadata": {},
   "outputs": [],
   "source": [
    "from feature_engineering.feature_engineering import Scaler\n",
    "\n",
    "\n",
    "scaler = Scaler(data=transactions_df)\n",
    "normalized_data = scaler.normalize(columns=['amount'])\n",
    "standardized_data = scaler.standardize(columns=['amount'])\n"
   ]
  },
  {
   "cell_type": "code",
   "execution_count": null,
   "metadata": {},
   "outputs": [],
   "source": [
    "from feature_engineering.feature_engineering import WOEIVFeatureEngineering\n",
    "\n",
    "\n",
    "woe_iv = WOEIVFeatureEngineering(data=transactions_df, target_col='target')\n",
    "woe_df, iv_scores = woe_iv.calculate_woe_iv(feature_cols=['feature1', 'feature2'])\n"
   ]
  },
  {
   "cell_type": "markdown",
   "metadata": {},
   "source": []
  }
 ],
 "metadata": {
  "kernelspec": {
   "display_name": ".venv",
   "language": "python",
   "name": "python3"
  },
  "language_info": {
   "codemirror_mode": {
    "name": "ipython",
    "version": 3
   },
   "file_extension": ".py",
   "mimetype": "text/x-python",
   "name": "python",
   "nbconvert_exporter": "python",
   "pygments_lexer": "ipython3",
   "version": "3.12.0"
  }
 },
 "nbformat": 4,
 "nbformat_minor": 2
}
