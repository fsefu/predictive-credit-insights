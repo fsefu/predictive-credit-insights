{
 "cells": [
  {
   "cell_type": "code",
   "execution_count": 1,
   "metadata": {},
   "outputs": [],
   "source": [
    "# Import pandas\n",
    "import pandas as pd\n",
    "import os\n",
    "import sys\n",
    "sys.path.append(os.path.abspath(os.path.join(os.getcwd(), '../src')))\n",
    "sys.path.append(os.path.abspath(os.path.join(os.getcwd(), '../scripts')))\n"
   ]
  },
  {
   "cell_type": "code",
   "execution_count": 2,
   "metadata": {},
   "outputs": [],
   "source": [
    "data = pd.read_csv('../data/cleaned_data.csv')"
   ]
  },
  {
   "cell_type": "code",
   "execution_count": null,
   "metadata": {},
   "outputs": [],
   "source": [
    "from modelling.credit_risk_model import CreditRiskModel\n",
    "\n",
    "\n",
    "target_column = 'FraudResult'  # Replace with the correct column name for your task\n",
    "\n",
    "# Initialize model class\n",
    "credit_risk_model = CreditRiskModel(data=data, target_column=target_column)\n",
    "\n",
    "# Preprocess data\n",
    "credit_risk_model.preprocess_data()\n",
    "\n",
    "# Train models\n",
    "credit_risk_model.train_models()\n",
    "\n",
    "# Hyperparameter tuning for Random Forest\n",
    "rf_param_grid = {\n",
    "    'n_estimators': [100, 200],\n",
    "    'max_depth': [10, 20],\n",
    "    'min_samples_split': [2, 5]\n",
    "}\n",
    "credit_risk_model.hyperparameter_tuning('Random Forest', rf_param_grid)\n",
    "\n",
    "# Evaluate all models\n",
    "evaluation_results = credit_risk_model.evaluate_all_models()\n"
   ]
  }
 ],
 "metadata": {
  "kernelspec": {
   "display_name": ".venv",
   "language": "python",
   "name": "python3"
  },
  "language_info": {
   "codemirror_mode": {
    "name": "ipython",
    "version": 3
   },
   "file_extension": ".py",
   "mimetype": "text/x-python",
   "name": "python",
   "nbconvert_exporter": "python",
   "pygments_lexer": "ipython3",
   "version": "3.12.0"
  }
 },
 "nbformat": 4,
 "nbformat_minor": 2
}
